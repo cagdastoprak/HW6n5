{
  "nbformat": 4,
  "nbformat_minor": 0,
  "metadata": {
    "colab": {
      "name": "HW 6n5n1.ipynb",
      "provenance": []
    },
    "kernelspec": {
      "name": "python3",
      "display_name": "Python 3"
    }
  },
  "cells": [
    {
      "cell_type": "code",
      "metadata": {
        "id": "yNJtvjyZzGyG",
        "colab_type": "code",
        "colab": {
          "base_uri": "https://localhost:8080/",
          "height": 34
        },
        "outputId": "2f36367a-95ff-4025-da13-fb3cb72e5307"
      },
      "source": [
        "from google.colab import drive\n",
        "drive.mount('/content/drive')"
      ],
      "execution_count": 1,
      "outputs": [
        {
          "output_type": "stream",
          "text": [
            "Drive already mounted at /content/drive; to attempt to forcibly remount, call drive.mount(\"/content/drive\", force_remount=True).\n"
          ],
          "name": "stdout"
        }
      ]
    },
    {
      "cell_type": "code",
      "metadata": {
        "id": "GRGB72MCzLF3",
        "colab_type": "code",
        "colab": {
          "base_uri": "https://localhost:8080/",
          "height": 101
        },
        "outputId": "9ed501cd-fb15-49fa-887c-731d423bc16e"
      },
      "source": [
        "%cd /content/drive/My\\ Drive/Colab\\ Notebooks/data\n",
        "# change directory\n",
        "%pwd  # Ben neredeyim komutu\n",
        "!ls    # İçerisinde ne var "
      ],
      "execution_count": 4,
      "outputs": [
        {
          "output_type": "stream",
          "text": [
            "/content/drive/My Drive/Colab Notebooks/data\n",
            "analyticsDeneme.csv  productPerformanceReport.csv     weatherHistory.csv\n",
            "EvFiyatlari\t     productPerformanceReportEng.csv  youtube.csv\n",
            "fifa.csv\t     states_all.csv\n",
            "insurance.csv\t     StudentsPerformance.csv\n"
          ],
          "name": "stdout"
        }
      ]
    },
    {
      "cell_type": "code",
      "metadata": {
        "id": "-dR4K91wzOGi",
        "colab_type": "code",
        "colab": {}
      },
      "source": [
        "import pandas as pd\n",
        "import numpy as np\n",
        "from sklearn import linear_model\n",
        "import matplotlib.pyplot as plt\n",
        "import seaborn as sns\n",
        "import statsmodels.api as sm\n",
        "from sklearn import linear_model\n",
        "import math\n",
        "#from matplotlib.mlab import PCA as mlabPCA\n",
        "from sklearn.preprocessing import StandardScaler\n",
        "from sklearn.decomposition import PCA\n",
        "from sqlalchemy import create_engine\n",
        "import warnings\n",
        "\n",
        "warnings.filterwarnings('ignore')\n",
        "\n",
        "%matplotlib inline\n",
        "pd.options.display.float_format = '{:.3f}'.format\n",
        "\n",
        "sns.set_style(\"whitegrid\")\n",
        "baslik_font = {'family': 'arial', 'color': 'darkred','weight': 'bold','size': 13 }\n",
        "eksen_font  = {'family': 'arial', 'color': 'darkblue','weight': 'bold','size': 10 }"
      ],
      "execution_count": 0,
      "outputs": []
    },
    {
      "cell_type": "code",
      "metadata": {
        "id": "_krQ_p7VzRAo",
        "colab_type": "code",
        "colab": {
          "base_uri": "https://localhost:8080/",
          "height": 296
        },
        "outputId": "9c8af036-8ce4-4efd-9c1f-d2fe1c80ba0a"
      },
      "source": [
        "original_data = pd.read_csv(\"weatherHistory.csv\")\n",
        "data=original_data.copy()\n",
        "original_data.head()"
      ],
      "execution_count": 6,
      "outputs": [
        {
          "output_type": "execute_result",
          "data": {
            "text/html": [
              "<div>\n",
              "<style scoped>\n",
              "    .dataframe tbody tr th:only-of-type {\n",
              "        vertical-align: middle;\n",
              "    }\n",
              "\n",
              "    .dataframe tbody tr th {\n",
              "        vertical-align: top;\n",
              "    }\n",
              "\n",
              "    .dataframe thead th {\n",
              "        text-align: right;\n",
              "    }\n",
              "</style>\n",
              "<table border=\"1\" class=\"dataframe\">\n",
              "  <thead>\n",
              "    <tr style=\"text-align: right;\">\n",
              "      <th></th>\n",
              "      <th>Formatted Date</th>\n",
              "      <th>Summary</th>\n",
              "      <th>Precip Type</th>\n",
              "      <th>Temperature (C)</th>\n",
              "      <th>Apparent Temperature (C)</th>\n",
              "      <th>Humidity</th>\n",
              "      <th>Wind Speed (km/h)</th>\n",
              "      <th>Wind Bearing (degrees)</th>\n",
              "      <th>Visibility (km)</th>\n",
              "      <th>Loud Cover</th>\n",
              "      <th>Pressure (millibars)</th>\n",
              "      <th>Daily Summary</th>\n",
              "    </tr>\n",
              "  </thead>\n",
              "  <tbody>\n",
              "    <tr>\n",
              "      <th>0</th>\n",
              "      <td>2006-04-01 00:00:00.000 +0200</td>\n",
              "      <td>Partly Cloudy</td>\n",
              "      <td>rain</td>\n",
              "      <td>9.472</td>\n",
              "      <td>7.389</td>\n",
              "      <td>0.890</td>\n",
              "      <td>14.120</td>\n",
              "      <td>251.000</td>\n",
              "      <td>15.826</td>\n",
              "      <td>0.000</td>\n",
              "      <td>1015.130</td>\n",
              "      <td>Partly cloudy throughout the day.</td>\n",
              "    </tr>\n",
              "    <tr>\n",
              "      <th>1</th>\n",
              "      <td>2006-04-01 01:00:00.000 +0200</td>\n",
              "      <td>Partly Cloudy</td>\n",
              "      <td>rain</td>\n",
              "      <td>9.356</td>\n",
              "      <td>7.228</td>\n",
              "      <td>0.860</td>\n",
              "      <td>14.265</td>\n",
              "      <td>259.000</td>\n",
              "      <td>15.826</td>\n",
              "      <td>0.000</td>\n",
              "      <td>1015.630</td>\n",
              "      <td>Partly cloudy throughout the day.</td>\n",
              "    </tr>\n",
              "    <tr>\n",
              "      <th>2</th>\n",
              "      <td>2006-04-01 02:00:00.000 +0200</td>\n",
              "      <td>Mostly Cloudy</td>\n",
              "      <td>rain</td>\n",
              "      <td>9.378</td>\n",
              "      <td>9.378</td>\n",
              "      <td>0.890</td>\n",
              "      <td>3.928</td>\n",
              "      <td>204.000</td>\n",
              "      <td>14.957</td>\n",
              "      <td>0.000</td>\n",
              "      <td>1015.940</td>\n",
              "      <td>Partly cloudy throughout the day.</td>\n",
              "    </tr>\n",
              "    <tr>\n",
              "      <th>3</th>\n",
              "      <td>2006-04-01 03:00:00.000 +0200</td>\n",
              "      <td>Partly Cloudy</td>\n",
              "      <td>rain</td>\n",
              "      <td>8.289</td>\n",
              "      <td>5.944</td>\n",
              "      <td>0.830</td>\n",
              "      <td>14.104</td>\n",
              "      <td>269.000</td>\n",
              "      <td>15.826</td>\n",
              "      <td>0.000</td>\n",
              "      <td>1016.410</td>\n",
              "      <td>Partly cloudy throughout the day.</td>\n",
              "    </tr>\n",
              "    <tr>\n",
              "      <th>4</th>\n",
              "      <td>2006-04-01 04:00:00.000 +0200</td>\n",
              "      <td>Mostly Cloudy</td>\n",
              "      <td>rain</td>\n",
              "      <td>8.756</td>\n",
              "      <td>6.978</td>\n",
              "      <td>0.830</td>\n",
              "      <td>11.045</td>\n",
              "      <td>259.000</td>\n",
              "      <td>15.826</td>\n",
              "      <td>0.000</td>\n",
              "      <td>1016.510</td>\n",
              "      <td>Partly cloudy throughout the day.</td>\n",
              "    </tr>\n",
              "  </tbody>\n",
              "</table>\n",
              "</div>"
            ],
            "text/plain": [
              "                  Formatted Date  ...                      Daily Summary\n",
              "0  2006-04-01 00:00:00.000 +0200  ...  Partly cloudy throughout the day.\n",
              "1  2006-04-01 01:00:00.000 +0200  ...  Partly cloudy throughout the day.\n",
              "2  2006-04-01 02:00:00.000 +0200  ...  Partly cloudy throughout the day.\n",
              "3  2006-04-01 03:00:00.000 +0200  ...  Partly cloudy throughout the day.\n",
              "4  2006-04-01 04:00:00.000 +0200  ...  Partly cloudy throughout the day.\n",
              "\n",
              "[5 rows x 12 columns]"
            ]
          },
          "metadata": {
            "tags": []
          },
          "execution_count": 6
        }
      ]
    },
    {
      "cell_type": "code",
      "metadata": {
        "id": "Eaz8p5C_0hAN",
        "colab_type": "code",
        "colab": {
          "base_uri": "https://localhost:8080/",
          "height": 296
        },
        "outputId": "cca41005-9b5f-46f3-a52c-0576baaf312c"
      },
      "source": [
        "data['TemperatureDif']=data['Temperature (C)']-data['Apparent Temperature (C)']\n",
        "data.head()"
      ],
      "execution_count": 7,
      "outputs": [
        {
          "output_type": "execute_result",
          "data": {
            "text/html": [
              "<div>\n",
              "<style scoped>\n",
              "    .dataframe tbody tr th:only-of-type {\n",
              "        vertical-align: middle;\n",
              "    }\n",
              "\n",
              "    .dataframe tbody tr th {\n",
              "        vertical-align: top;\n",
              "    }\n",
              "\n",
              "    .dataframe thead th {\n",
              "        text-align: right;\n",
              "    }\n",
              "</style>\n",
              "<table border=\"1\" class=\"dataframe\">\n",
              "  <thead>\n",
              "    <tr style=\"text-align: right;\">\n",
              "      <th></th>\n",
              "      <th>Formatted Date</th>\n",
              "      <th>Summary</th>\n",
              "      <th>Precip Type</th>\n",
              "      <th>Temperature (C)</th>\n",
              "      <th>Apparent Temperature (C)</th>\n",
              "      <th>Humidity</th>\n",
              "      <th>Wind Speed (km/h)</th>\n",
              "      <th>Wind Bearing (degrees)</th>\n",
              "      <th>Visibility (km)</th>\n",
              "      <th>Loud Cover</th>\n",
              "      <th>Pressure (millibars)</th>\n",
              "      <th>Daily Summary</th>\n",
              "      <th>TemperatureDif</th>\n",
              "    </tr>\n",
              "  </thead>\n",
              "  <tbody>\n",
              "    <tr>\n",
              "      <th>0</th>\n",
              "      <td>2006-04-01 00:00:00.000 +0200</td>\n",
              "      <td>Partly Cloudy</td>\n",
              "      <td>rain</td>\n",
              "      <td>9.472</td>\n",
              "      <td>7.389</td>\n",
              "      <td>0.890</td>\n",
              "      <td>14.120</td>\n",
              "      <td>251.000</td>\n",
              "      <td>15.826</td>\n",
              "      <td>0.000</td>\n",
              "      <td>1015.130</td>\n",
              "      <td>Partly cloudy throughout the day.</td>\n",
              "      <td>2.083</td>\n",
              "    </tr>\n",
              "    <tr>\n",
              "      <th>1</th>\n",
              "      <td>2006-04-01 01:00:00.000 +0200</td>\n",
              "      <td>Partly Cloudy</td>\n",
              "      <td>rain</td>\n",
              "      <td>9.356</td>\n",
              "      <td>7.228</td>\n",
              "      <td>0.860</td>\n",
              "      <td>14.265</td>\n",
              "      <td>259.000</td>\n",
              "      <td>15.826</td>\n",
              "      <td>0.000</td>\n",
              "      <td>1015.630</td>\n",
              "      <td>Partly cloudy throughout the day.</td>\n",
              "      <td>2.128</td>\n",
              "    </tr>\n",
              "    <tr>\n",
              "      <th>2</th>\n",
              "      <td>2006-04-01 02:00:00.000 +0200</td>\n",
              "      <td>Mostly Cloudy</td>\n",
              "      <td>rain</td>\n",
              "      <td>9.378</td>\n",
              "      <td>9.378</td>\n",
              "      <td>0.890</td>\n",
              "      <td>3.928</td>\n",
              "      <td>204.000</td>\n",
              "      <td>14.957</td>\n",
              "      <td>0.000</td>\n",
              "      <td>1015.940</td>\n",
              "      <td>Partly cloudy throughout the day.</td>\n",
              "      <td>0.000</td>\n",
              "    </tr>\n",
              "    <tr>\n",
              "      <th>3</th>\n",
              "      <td>2006-04-01 03:00:00.000 +0200</td>\n",
              "      <td>Partly Cloudy</td>\n",
              "      <td>rain</td>\n",
              "      <td>8.289</td>\n",
              "      <td>5.944</td>\n",
              "      <td>0.830</td>\n",
              "      <td>14.104</td>\n",
              "      <td>269.000</td>\n",
              "      <td>15.826</td>\n",
              "      <td>0.000</td>\n",
              "      <td>1016.410</td>\n",
              "      <td>Partly cloudy throughout the day.</td>\n",
              "      <td>2.344</td>\n",
              "    </tr>\n",
              "    <tr>\n",
              "      <th>4</th>\n",
              "      <td>2006-04-01 04:00:00.000 +0200</td>\n",
              "      <td>Mostly Cloudy</td>\n",
              "      <td>rain</td>\n",
              "      <td>8.756</td>\n",
              "      <td>6.978</td>\n",
              "      <td>0.830</td>\n",
              "      <td>11.045</td>\n",
              "      <td>259.000</td>\n",
              "      <td>15.826</td>\n",
              "      <td>0.000</td>\n",
              "      <td>1016.510</td>\n",
              "      <td>Partly cloudy throughout the day.</td>\n",
              "      <td>1.778</td>\n",
              "    </tr>\n",
              "  </tbody>\n",
              "</table>\n",
              "</div>"
            ],
            "text/plain": [
              "                  Formatted Date  ... TemperatureDif\n",
              "0  2006-04-01 00:00:00.000 +0200  ...          2.083\n",
              "1  2006-04-01 01:00:00.000 +0200  ...          2.128\n",
              "2  2006-04-01 02:00:00.000 +0200  ...          0.000\n",
              "3  2006-04-01 03:00:00.000 +0200  ...          2.344\n",
              "4  2006-04-01 04:00:00.000 +0200  ...          1.778\n",
              "\n",
              "[5 rows x 13 columns]"
            ]
          },
          "metadata": {
            "tags": []
          },
          "execution_count": 7
        }
      ]
    },
    {
      "cell_type": "code",
      "metadata": {
        "id": "V7zpluiD0oA_",
        "colab_type": "code",
        "colab": {}
      },
      "source": [
        "Y=data['TemperatureDif']\n",
        "X=data[['Humidity','Wind Speed (km/h)']]"
      ],
      "execution_count": 0,
      "outputs": []
    },
    {
      "cell_type": "code",
      "metadata": {
        "id": "C-UPX6NP0se9",
        "colab_type": "code",
        "colab": {
          "base_uri": "https://localhost:8080/",
          "height": 426
        },
        "outputId": "b8b3be3c-f913-4b07-f2b1-2744cbed136e"
      },
      "source": [
        "results = sm.OLS(Y, X).fit()\n",
        "results.summary()"
      ],
      "execution_count": 10,
      "outputs": [
        {
          "output_type": "execute_result",
          "data": {
            "text/html": [
              "<table class=\"simpletable\">\n",
              "<caption>OLS Regression Results</caption>\n",
              "<tr>\n",
              "  <th>Dep. Variable:</th>     <td>TemperatureDif</td>  <th>  R-squared (uncentered):</th>       <td>   0.425</td>  \n",
              "</tr>\n",
              "<tr>\n",
              "  <th>Model:</th>                   <td>OLS</td>       <th>  Adj. R-squared (uncentered):</th>  <td>   0.425</td>  \n",
              "</tr>\n",
              "<tr>\n",
              "  <th>Method:</th>             <td>Least Squares</td>  <th>  F-statistic:       </th>           <td>3.570e+04</td> \n",
              "</tr>\n",
              "<tr>\n",
              "  <th>Date:</th>             <td>Mon, 08 Jun 2020</td> <th>  Prob (F-statistic):</th>            <td>  0.00</td>   \n",
              "</tr>\n",
              "<tr>\n",
              "  <th>Time:</th>                 <td>21:25:18</td>     <th>  Log-Likelihood:    </th>          <td>-1.7675e+05</td>\n",
              "</tr>\n",
              "<tr>\n",
              "  <th>No. Observations:</th>      <td> 96453</td>      <th>  AIC:               </th>           <td>3.535e+05</td> \n",
              "</tr>\n",
              "<tr>\n",
              "  <th>Df Residuals:</th>          <td> 96451</td>      <th>  BIC:               </th>           <td>3.535e+05</td> \n",
              "</tr>\n",
              "<tr>\n",
              "  <th>Df Model:</th>              <td>     2</td>      <th>                     </th>               <td> </td>     \n",
              "</tr>\n",
              "<tr>\n",
              "  <th>Covariance Type:</th>      <td>nonrobust</td>    <th>                     </th>               <td> </td>     \n",
              "</tr>\n",
              "</table>\n",
              "<table class=\"simpletable\">\n",
              "<tr>\n",
              "          <td></td>             <th>coef</th>     <th>std err</th>      <th>t</th>      <th>P>|t|</th>  <th>[0.025</th>    <th>0.975]</th>  \n",
              "</tr>\n",
              "<tr>\n",
              "  <th>Humidity</th>          <td>    0.4873</td> <td>    0.010</td> <td>   47.338</td> <td> 0.000</td> <td>    0.467</td> <td>    0.507</td>\n",
              "</tr>\n",
              "<tr>\n",
              "  <th>Wind Speed (km/h)</th> <td>    0.0772</td> <td>    0.001</td> <td>  126.510</td> <td> 0.000</td> <td>    0.076</td> <td>    0.078</td>\n",
              "</tr>\n",
              "</table>\n",
              "<table class=\"simpletable\">\n",
              "<tr>\n",
              "  <th>Omnibus:</th>       <td>9577.682</td> <th>  Durbin-Watson:     </th> <td>   0.225</td> \n",
              "</tr>\n",
              "<tr>\n",
              "  <th>Prob(Omnibus):</th>  <td> 0.000</td>  <th>  Jarque-Bera (JB):  </th> <td>12669.324</td>\n",
              "</tr>\n",
              "<tr>\n",
              "  <th>Skew:</th>           <td> 0.867</td>  <th>  Prob(JB):          </th> <td>    0.00</td> \n",
              "</tr>\n",
              "<tr>\n",
              "  <th>Kurtosis:</th>       <td> 3.378</td>  <th>  Cond. No.          </th> <td>    27.2</td> \n",
              "</tr>\n",
              "</table><br/><br/>Warnings:<br/>[1] Standard Errors assume that the covariance matrix of the errors is correctly specified."
            ],
            "text/plain": [
              "<class 'statsmodels.iolib.summary.Summary'>\n",
              "\"\"\"\n",
              "                                 OLS Regression Results                                \n",
              "=======================================================================================\n",
              "Dep. Variable:         TemperatureDif   R-squared (uncentered):                   0.425\n",
              "Model:                            OLS   Adj. R-squared (uncentered):              0.425\n",
              "Method:                 Least Squares   F-statistic:                          3.570e+04\n",
              "Date:                Mon, 08 Jun 2020   Prob (F-statistic):                        0.00\n",
              "Time:                        21:25:18   Log-Likelihood:                     -1.7675e+05\n",
              "No. Observations:               96453   AIC:                                  3.535e+05\n",
              "Df Residuals:                   96451   BIC:                                  3.535e+05\n",
              "Df Model:                           2                                                  \n",
              "Covariance Type:            nonrobust                                                  \n",
              "=====================================================================================\n",
              "                        coef    std err          t      P>|t|      [0.025      0.975]\n",
              "-------------------------------------------------------------------------------------\n",
              "Humidity              0.4873      0.010     47.338      0.000       0.467       0.507\n",
              "Wind Speed (km/h)     0.0772      0.001    126.510      0.000       0.076       0.078\n",
              "==============================================================================\n",
              "Omnibus:                     9577.682   Durbin-Watson:                   0.225\n",
              "Prob(Omnibus):                  0.000   Jarque-Bera (JB):            12669.324\n",
              "Skew:                           0.867   Prob(JB):                         0.00\n",
              "Kurtosis:                       3.378   Cond. No.                         27.2\n",
              "==============================================================================\n",
              "\n",
              "Warnings:\n",
              "[1] Standard Errors assume that the covariance matrix of the errors is correctly specified.\n",
              "\"\"\""
            ]
          },
          "metadata": {
            "tags": []
          },
          "execution_count": 10
        }
      ]
    },
    {
      "cell_type": "code",
      "metadata": {
        "id": "npWlIxCe00QV",
        "colab_type": "code",
        "colab": {}
      },
      "source": [
        "data['relatedHumVSWs']=data['Humidity']*data['Wind Speed (km/h)']"
      ],
      "execution_count": 0,
      "outputs": []
    },
    {
      "cell_type": "code",
      "metadata": {
        "id": "RMLb7IO-1GgH",
        "colab_type": "code",
        "colab": {}
      },
      "source": [
        "Y=data['TemperatureDif']\n",
        "X=data[['Humidity','Wind Speed (km/h)','relatedHumVSWs']]"
      ],
      "execution_count": 0,
      "outputs": []
    },
    {
      "cell_type": "code",
      "metadata": {
        "id": "odMyX_eW1TZQ",
        "colab_type": "code",
        "colab": {
          "base_uri": "https://localhost:8080/",
          "height": 446
        },
        "outputId": "2aac580e-3724-4ecc-c32c-282702c008db"
      },
      "source": [
        "results = sm.OLS(Y, X).fit()\n",
        "results.summary()"
      ],
      "execution_count": 13,
      "outputs": [
        {
          "output_type": "execute_result",
          "data": {
            "text/html": [
              "<table class=\"simpletable\">\n",
              "<caption>OLS Regression Results</caption>\n",
              "<tr>\n",
              "  <th>Dep. Variable:</th>     <td>TemperatureDif</td>  <th>  R-squared (uncentered):</th>       <td>   0.533</td>  \n",
              "</tr>\n",
              "<tr>\n",
              "  <th>Model:</th>                   <td>OLS</td>       <th>  Adj. R-squared (uncentered):</th>  <td>   0.533</td>  \n",
              "</tr>\n",
              "<tr>\n",
              "  <th>Method:</th>             <td>Least Squares</td>  <th>  F-statistic:       </th>           <td>3.677e+04</td> \n",
              "</tr>\n",
              "<tr>\n",
              "  <th>Date:</th>             <td>Mon, 08 Jun 2020</td> <th>  Prob (F-statistic):</th>            <td>  0.00</td>   \n",
              "</tr>\n",
              "<tr>\n",
              "  <th>Time:</th>                 <td>21:27:56</td>     <th>  Log-Likelihood:    </th>          <td>-1.6670e+05</td>\n",
              "</tr>\n",
              "<tr>\n",
              "  <th>No. Observations:</th>      <td> 96453</td>      <th>  AIC:               </th>           <td>3.334e+05</td> \n",
              "</tr>\n",
              "<tr>\n",
              "  <th>Df Residuals:</th>          <td> 96450</td>      <th>  BIC:               </th>           <td>3.334e+05</td> \n",
              "</tr>\n",
              "<tr>\n",
              "  <th>Df Model:</th>              <td>     3</td>      <th>                     </th>               <td> </td>     \n",
              "</tr>\n",
              "<tr>\n",
              "  <th>Covariance Type:</th>      <td>nonrobust</td>    <th>                     </th>               <td> </td>     \n",
              "</tr>\n",
              "</table>\n",
              "<table class=\"simpletable\">\n",
              "<tr>\n",
              "          <td></td>             <th>coef</th>     <th>std err</th>      <th>t</th>      <th>P>|t|</th>  <th>[0.025</th>    <th>0.975]</th>  \n",
              "</tr>\n",
              "<tr>\n",
              "  <th>Humidity</th>          <td>   -0.2820</td> <td>    0.011</td> <td>  -26.590</td> <td> 0.000</td> <td>   -0.303</td> <td>   -0.261</td>\n",
              "</tr>\n",
              "<tr>\n",
              "  <th>Wind Speed (km/h)</th> <td>   -0.0958</td> <td>    0.001</td> <td>  -74.776</td> <td> 0.000</td> <td>   -0.098</td> <td>   -0.093</td>\n",
              "</tr>\n",
              "<tr>\n",
              "  <th>relatedHumVSWs</th>    <td>    0.3038</td> <td>    0.002</td> <td>  149.513</td> <td> 0.000</td> <td>    0.300</td> <td>    0.308</td>\n",
              "</tr>\n",
              "</table>\n",
              "<table class=\"simpletable\">\n",
              "<tr>\n",
              "  <th>Omnibus:</th>       <td>4919.327</td> <th>  Durbin-Watson:     </th> <td>   0.262</td>\n",
              "</tr>\n",
              "<tr>\n",
              "  <th>Prob(Omnibus):</th>  <td> 0.000</td>  <th>  Jarque-Bera (JB):  </th> <td>9471.445</td>\n",
              "</tr>\n",
              "<tr>\n",
              "  <th>Skew:</th>           <td> 0.381</td>  <th>  Prob(JB):          </th> <td>    0.00</td>\n",
              "</tr>\n",
              "<tr>\n",
              "  <th>Kurtosis:</th>       <td> 4.333</td>  <th>  Cond. No.          </th> <td>    38.0</td>\n",
              "</tr>\n",
              "</table><br/><br/>Warnings:<br/>[1] Standard Errors assume that the covariance matrix of the errors is correctly specified."
            ],
            "text/plain": [
              "<class 'statsmodels.iolib.summary.Summary'>\n",
              "\"\"\"\n",
              "                                 OLS Regression Results                                \n",
              "=======================================================================================\n",
              "Dep. Variable:         TemperatureDif   R-squared (uncentered):                   0.533\n",
              "Model:                            OLS   Adj. R-squared (uncentered):              0.533\n",
              "Method:                 Least Squares   F-statistic:                          3.677e+04\n",
              "Date:                Mon, 08 Jun 2020   Prob (F-statistic):                        0.00\n",
              "Time:                        21:27:56   Log-Likelihood:                     -1.6670e+05\n",
              "No. Observations:               96453   AIC:                                  3.334e+05\n",
              "Df Residuals:                   96450   BIC:                                  3.334e+05\n",
              "Df Model:                           3                                                  \n",
              "Covariance Type:            nonrobust                                                  \n",
              "=====================================================================================\n",
              "                        coef    std err          t      P>|t|      [0.025      0.975]\n",
              "-------------------------------------------------------------------------------------\n",
              "Humidity             -0.2820      0.011    -26.590      0.000      -0.303      -0.261\n",
              "Wind Speed (km/h)    -0.0958      0.001    -74.776      0.000      -0.098      -0.093\n",
              "relatedHumVSWs        0.3038      0.002    149.513      0.000       0.300       0.308\n",
              "==============================================================================\n",
              "Omnibus:                     4919.327   Durbin-Watson:                   0.262\n",
              "Prob(Omnibus):                  0.000   Jarque-Bera (JB):             9471.445\n",
              "Skew:                           0.381   Prob(JB):                         0.00\n",
              "Kurtosis:                       4.333   Cond. No.                         38.0\n",
              "==============================================================================\n",
              "\n",
              "Warnings:\n",
              "[1] Standard Errors assume that the covariance matrix of the errors is correctly specified.\n",
              "\"\"\""
            ]
          },
          "metadata": {
            "tags": []
          },
          "execution_count": 13
        }
      ]
    },
    {
      "cell_type": "code",
      "metadata": {
        "id": "OwBI74Gg1qdk",
        "colab_type": "code",
        "colab": {}
      },
      "source": [
        "data2=original_data.copy()"
      ],
      "execution_count": 0,
      "outputs": []
    },
    {
      "cell_type": "code",
      "metadata": {
        "id": "jVd1Ir8J170k",
        "colab_type": "code",
        "colab": {}
      },
      "source": [
        "data2['TemperatureDif']=data2['Temperature (C)']-data2['Apparent Temperature (C)']\n",
        "Y=data2['TemperatureDif']\n",
        "X=data2[['Humidity','Wind Speed (km/h)','Visibility (km)']]"
      ],
      "execution_count": 0,
      "outputs": []
    },
    {
      "cell_type": "code",
      "metadata": {
        "id": "zDRnnW1a10WO",
        "colab_type": "code",
        "colab": {
          "base_uri": "https://localhost:8080/",
          "height": 446
        },
        "outputId": "47f08a0e-6661-42e6-a111-b2803003b061"
      },
      "source": [
        "results = sm.OLS(Y, X).fit()\n",
        "results.summary()"
      ],
      "execution_count": 17,
      "outputs": [
        {
          "output_type": "execute_result",
          "data": {
            "text/html": [
              "<table class=\"simpletable\">\n",
              "<caption>OLS Regression Results</caption>\n",
              "<tr>\n",
              "  <th>Dep. Variable:</th>     <td>TemperatureDif</td>  <th>  R-squared (uncentered):</th>       <td>   0.490</td>  \n",
              "</tr>\n",
              "<tr>\n",
              "  <th>Model:</th>                   <td>OLS</td>       <th>  Adj. R-squared (uncentered):</th>  <td>   0.490</td>  \n",
              "</tr>\n",
              "<tr>\n",
              "  <th>Method:</th>             <td>Least Squares</td>  <th>  F-statistic:       </th>           <td>3.094e+04</td> \n",
              "</tr>\n",
              "<tr>\n",
              "  <th>Date:</th>             <td>Mon, 08 Jun 2020</td> <th>  Prob (F-statistic):</th>            <td>  0.00</td>   \n",
              "</tr>\n",
              "<tr>\n",
              "  <th>Time:</th>                 <td>21:32:21</td>     <th>  Log-Likelihood:    </th>          <td>-1.7096e+05</td>\n",
              "</tr>\n",
              "<tr>\n",
              "  <th>No. Observations:</th>      <td> 96453</td>      <th>  AIC:               </th>           <td>3.419e+05</td> \n",
              "</tr>\n",
              "<tr>\n",
              "  <th>Df Residuals:</th>          <td> 96450</td>      <th>  BIC:               </th>           <td>3.419e+05</td> \n",
              "</tr>\n",
              "<tr>\n",
              "  <th>Df Model:</th>              <td>     3</td>      <th>                     </th>               <td> </td>     \n",
              "</tr>\n",
              "<tr>\n",
              "  <th>Covariance Type:</th>      <td>nonrobust</td>    <th>                     </th>               <td> </td>     \n",
              "</tr>\n",
              "</table>\n",
              "<table class=\"simpletable\">\n",
              "<tr>\n",
              "          <td></td>             <th>coef</th>     <th>std err</th>      <th>t</th>      <th>P>|t|</th>  <th>[0.025</th>    <th>0.975]</th>  \n",
              "</tr>\n",
              "<tr>\n",
              "  <th>Humidity</th>          <td>    1.3488</td> <td>    0.012</td> <td>  108.590</td> <td> 0.000</td> <td>    1.324</td> <td>    1.373</td>\n",
              "</tr>\n",
              "<tr>\n",
              "  <th>Wind Speed (km/h)</th> <td>    0.1052</td> <td>    0.001</td> <td>  167.634</td> <td> 0.000</td> <td>    0.104</td> <td>    0.106</td>\n",
              "</tr>\n",
              "<tr>\n",
              "  <th>Visibility (km)</th>   <td>   -0.0976</td> <td>    0.001</td> <td> -110.936</td> <td> 0.000</td> <td>   -0.099</td> <td>   -0.096</td>\n",
              "</tr>\n",
              "</table>\n",
              "<table class=\"simpletable\">\n",
              "<tr>\n",
              "  <th>Omnibus:</th>       <td>5476.521</td> <th>  Durbin-Watson:     </th> <td>   0.280</td>\n",
              "</tr>\n",
              "<tr>\n",
              "  <th>Prob(Omnibus):</th>  <td> 0.000</td>  <th>  Jarque-Bera (JB):  </th> <td>6619.177</td>\n",
              "</tr>\n",
              "<tr>\n",
              "  <th>Skew:</th>           <td> 0.587</td>  <th>  Prob(JB):          </th> <td>    0.00</td>\n",
              "</tr>\n",
              "<tr>\n",
              "  <th>Kurtosis:</th>       <td> 3.519</td>  <th>  Cond. No.          </th> <td>    43.9</td>\n",
              "</tr>\n",
              "</table><br/><br/>Warnings:<br/>[1] Standard Errors assume that the covariance matrix of the errors is correctly specified."
            ],
            "text/plain": [
              "<class 'statsmodels.iolib.summary.Summary'>\n",
              "\"\"\"\n",
              "                                 OLS Regression Results                                \n",
              "=======================================================================================\n",
              "Dep. Variable:         TemperatureDif   R-squared (uncentered):                   0.490\n",
              "Model:                            OLS   Adj. R-squared (uncentered):              0.490\n",
              "Method:                 Least Squares   F-statistic:                          3.094e+04\n",
              "Date:                Mon, 08 Jun 2020   Prob (F-statistic):                        0.00\n",
              "Time:                        21:32:21   Log-Likelihood:                     -1.7096e+05\n",
              "No. Observations:               96453   AIC:                                  3.419e+05\n",
              "Df Residuals:                   96450   BIC:                                  3.419e+05\n",
              "Df Model:                           3                                                  \n",
              "Covariance Type:            nonrobust                                                  \n",
              "=====================================================================================\n",
              "                        coef    std err          t      P>|t|      [0.025      0.975]\n",
              "-------------------------------------------------------------------------------------\n",
              "Humidity              1.3488      0.012    108.590      0.000       1.324       1.373\n",
              "Wind Speed (km/h)     0.1052      0.001    167.634      0.000       0.104       0.106\n",
              "Visibility (km)      -0.0976      0.001   -110.936      0.000      -0.099      -0.096\n",
              "==============================================================================\n",
              "Omnibus:                     5476.521   Durbin-Watson:                   0.280\n",
              "Prob(Omnibus):                  0.000   Jarque-Bera (JB):             6619.177\n",
              "Skew:                           0.587   Prob(JB):                         0.00\n",
              "Kurtosis:                       3.519   Cond. No.                         43.9\n",
              "==============================================================================\n",
              "\n",
              "Warnings:\n",
              "[1] Standard Errors assume that the covariance matrix of the errors is correctly specified.\n",
              "\"\"\""
            ]
          },
          "metadata": {
            "tags": []
          },
          "execution_count": 17
        }
      ]
    },
    {
      "cell_type": "markdown",
      "metadata": {
        "id": "-FgT4AVU21IW",
        "colab_type": "text"
      },
      "source": [
        "2. Modelin daha iyi olduğunu BIC ve AIC puanlarından anlıyoruz"
      ]
    }
  ]
}